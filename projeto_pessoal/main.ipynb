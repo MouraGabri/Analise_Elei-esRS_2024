{
 "cells": [
  {
   "cell_type": "markdown",
   "metadata": {},
   "source": [
    "### Libs "
   ]
  },
  {
   "cell_type": "code",
   "execution_count": 2,
   "metadata": {},
   "outputs": [],
   "source": [
    "import pandas as pd\n",
    "import openpyxl as xl\n",
    "import schedule \n",
    "import time \n",
    "from datetime import datetime,timedelta"
   ]
  },
  {
   "cell_type": "markdown",
   "metadata": {},
   "source": [
    "### Leitura Dataseat"
   ]
  },
  {
   "cell_type": "code",
   "execution_count": 3,
   "metadata": {},
   "outputs": [],
   "source": [
    "def ler_excel(caminho_do_arquivo):\n",
    "    n = 20000  # número de linhas\n",
    "    try:\n",
    "        # Lê o arquivo CSV\n",
    "        df_read_excel = pd.read_csv(caminho_do_arquivo, encoding='ISO-8859-1', sep=';', nrows=n)\n",
    "        # Exibe o conteúdo do DataFrame\n",
    "        print(df_read_excel)  \n",
    "    except Exception as e:\n",
    "        print(f\"Erro ao ler o arquivo: {e}\")  # Tratamento de erros\n",
    "\n"
   ]
  },
  {
   "cell_type": "markdown",
   "metadata": {},
   "source": [
    "### Schedule para Ler o arquivo "
   ]
  },
  {
   "cell_type": "code",
   "execution_count": 5,
   "metadata": {},
   "outputs": [
    {
     "name": "stdout",
     "output_type": "stream",
     "text": [
      "       DT_GERACAO HH_GERACAO  ANO_ELEICAO  CD_TIPO_ELEICAO    NM_TIPO_ELEICAO  \\\n",
      "0      07/10/2024   13:30:12         2024                2  Eleição Ordinária   \n",
      "1      07/10/2024   13:30:12         2024                2  Eleição Ordinária   \n",
      "2      07/10/2024   13:30:12         2024                2  Eleição Ordinária   \n",
      "3      07/10/2024   13:30:12         2024                2  Eleição Ordinária   \n",
      "4      07/10/2024   13:30:12         2024                2  Eleição Ordinária   \n",
      "...           ...        ...          ...              ...                ...   \n",
      "19995  07/10/2024   13:30:12         2024                2  Eleição Ordinária   \n",
      "19996  07/10/2024   13:30:12         2024                2  Eleição Ordinária   \n",
      "19997  07/10/2024   13:30:12         2024                2  Eleição Ordinária   \n",
      "19998  07/10/2024   13:30:12         2024                2  Eleição Ordinária   \n",
      "19999  07/10/2024   13:30:12         2024                2  Eleição Ordinária   \n",
      "\n",
      "       NR_TURNO  CD_ELEICAO                DS_ELEICAO  DT_ELEICAO  \\\n",
      "0             1         619  Eleições Municipais 2024  06/10/2024   \n",
      "1             1         619  Eleições Municipais 2024  06/10/2024   \n",
      "2             1         619  Eleições Municipais 2024  06/10/2024   \n",
      "3             1         619  Eleições Municipais 2024  06/10/2024   \n",
      "4             1         619  Eleições Municipais 2024  06/10/2024   \n",
      "...         ...         ...                       ...         ...   \n",
      "19995         1         619  Eleições Municipais 2024  06/10/2024   \n",
      "19996         1         619  Eleições Municipais 2024  06/10/2024   \n",
      "19997         1         619  Eleições Municipais 2024  06/10/2024   \n",
      "19998         1         619  Eleições Municipais 2024  06/10/2024   \n",
      "19999         1         619  Eleições Municipais 2024  06/10/2024   \n",
      "\n",
      "      TP_ABRANGENCIA  ... NR_SECAO  CD_CARGO  DS_CARGO  NR_VOTAVEL  \\\n",
      "0                  M  ...       90        13  Vereador       11000   \n",
      "1                  M  ...      102        13  Vereador       11000   \n",
      "2                  M  ...      236        13  Vereador       30000   \n",
      "3                  M  ...       16        13  Vereador       11034   \n",
      "4                  M  ...      403        13  Vereador       30000   \n",
      "...              ...  ...      ...       ...       ...         ...   \n",
      "19995              M  ...       55        13  Vereador       25888   \n",
      "19996              M  ...      204        13  Vereador       25888   \n",
      "19997              M  ...       24        13  Vereador       13420   \n",
      "19998              M  ...       18        13  Vereador       11188   \n",
      "19999              M  ...      332        13  Vereador       36333   \n",
      "\n",
      "                              NM_VOTAVEL  QT_VOTOS  NR_LOCAL_VOTACAO  \\\n",
      "0                              ILMO HENZ         4              1031   \n",
      "1                              ILMO HENZ        25              1147   \n",
      "2                CONCÍLIO LEMOS DA SILVA         1              1066   \n",
      "3                  CARINE PÔRTO RICHETTI         5              1023   \n",
      "4                CONCÍLIO LEMOS DA SILVA         2              1414   \n",
      "...                                  ...       ...               ...   \n",
      "19995   MAICON JULIANO DA SILVA SIQUEIRA         1              1333   \n",
      "19996   MAICON JULIANO DA SILVA SIQUEIRA         3              1279   \n",
      "19997             LUANDER DA SILVA LESSA         2              1198   \n",
      "19998                      RENNAN BONDAN        21              1465   \n",
      "19999  REGIS BATISTA DE OLIVEIRA CAMARCO         1              1716   \n",
      "\n",
      "       SQ_CANDIDATO                                   NM_LOCAL_VOTACAO  \\\n",
      "0      210001956392                    SOCIEDADE 13 DE MAIO (MILA SUL)   \n",
      "1      210001956392                CLUBE 1º DE MAIO (PINHEIRO MACHADO)   \n",
      "2      210002114853                        COLÉGIO EST ERICO VERISSIMO   \n",
      "3      210001950037                       ESC. EST. HEITOR VILLA-LOBOS   \n",
      "4      210002114853  ESCOLA EST DE ENS MÉDIO MAURICIO SIROTSKY SOBR...   \n",
      "...             ...                                                ...   \n",
      "19995  210001983332                   ESCOLA ESTADUAL RIVADAVIA CORREA   \n",
      "19996  210001983332                    ESCOLA MUNICIPAL PACHECO PRATES   \n",
      "19997  210002069751                                   COLÉGIO SÃO JOSÉ   \n",
      "19998  210001977719                                E.M.E.F. SANTA CRUZ   \n",
      "19999  210002253578                   E. M. E. F. SANTA RITA DE CASSIA   \n",
      "\n",
      "             DS_LOCAL_VOTACAO_ENDERECO  \n",
      "0                       LINHA MILA SUL  \n",
      "1                VILA PINHEIRO MACHADO  \n",
      "2                     TRAV. NATAL, 336  \n",
      "3           RUA OTELO ROSA, 118 PDA/74  \n",
      "4              RUA GONCALVES DIAS, 116  \n",
      "...                                ...  \n",
      "19995            RUA DOS ANDRADAS, 797  \n",
      "19996  RUA TOSCANO BARBOSA, 335 WILSON  \n",
      "19997          RUA FÉLIX DA CUNHA, 400  \n",
      "19998    RUA ROQUE VITOR BARBIERI, S/N  \n",
      "19999                  RUA MACAPÁ, 121  \n",
      "\n",
      "[20000 rows x 26 columns]\n",
      "Leitura concluída. Encerrando o script.\n"
     ]
    }
   ],
   "source": [
    "# Função de leitura para o agendamento\n",
    "def agendar_leitura():\n",
    "    caminho_do_arquivo = r'C:\\Users\\gm194\\Downloads\\votacao_secao_2024_RS.csv'\n",
    "    ler_excel(caminho_do_arquivo)  # Chama a função que lê e imprime o arquivo\n",
    "\n",
    "# Agendamento para executar a função agendar_leitura diariamente às 23:07\n",
    "schedule.every().day.at(\"23:21\").do(agendar_leitura)\n",
    "\n",
    "# Loop para verificar se é hora de executar a tarefa agendada\n",
    "while True:\n",
    "    # Obtém a hora atual\n",
    "    agora = datetime.now().strftime(\"%H:%M\")\n",
    "    \n",
    "    # Verifica se o horário atual é igual ao horário agendado\n",
    "    if agora == \"23:21\":  # Coloque aqui o horário que deseja\n",
    "        agendar_leitura()  # Executa a função\n",
    "        print(\"Leitura concluída. Encerrando o script.\")\n",
    "        break  # Sai do loop\n",
    "\n",
    "    time.sleep(10)  # Espera 10 segundos antes de verificar novamente"
   ]
  }
 ],
 "metadata": {
  "kernelspec": {
   "display_name": "Python 3",
   "language": "python",
   "name": "python3"
  },
  "language_info": {
   "codemirror_mode": {
    "name": "ipython",
    "version": 3
   },
   "file_extension": ".py",
   "mimetype": "text/x-python",
   "name": "python",
   "nbconvert_exporter": "python",
   "pygments_lexer": "ipython3",
   "version": "3.12.2"
  }
 },
 "nbformat": 4,
 "nbformat_minor": 2
}
