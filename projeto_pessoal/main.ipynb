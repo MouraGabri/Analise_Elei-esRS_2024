{
 "cells": [
  {
   "cell_type": "markdown",
   "metadata": {},
   "source": [
    "### Libs "
   ]
  },
  {
   "cell_type": "code",
   "execution_count": 64,
   "metadata": {},
   "outputs": [],
   "source": [
    "import pandas as pd\n",
    "import openpyxl as xl\n",
    "import schedule \n",
    "import time \n",
    "import numpy as np\n",
    "from datetime import datetime,timedelta\n",
    "from IPython.display import display"
   ]
  },
  {
   "cell_type": "markdown",
   "metadata": {},
   "source": [
    "### Leitura Dataseat"
   ]
  },
  {
   "cell_type": "code",
   "execution_count": 65,
   "metadata": {},
   "outputs": [
    {
     "data": {
      "text/html": [
       "<div>\n",
       "<style scoped>\n",
       "    .dataframe tbody tr th:only-of-type {\n",
       "        vertical-align: middle;\n",
       "    }\n",
       "\n",
       "    .dataframe tbody tr th {\n",
       "        vertical-align: top;\n",
       "    }\n",
       "\n",
       "    .dataframe thead th {\n",
       "        text-align: right;\n",
       "    }\n",
       "</style>\n",
       "<table border=\"1\" class=\"dataframe\">\n",
       "  <thead>\n",
       "    <tr style=\"text-align: right;\">\n",
       "      <th></th>\n",
       "      <th>DT_GERACAO</th>\n",
       "      <th>HH_GERACAO</th>\n",
       "      <th>AA_ELEICAO</th>\n",
       "      <th>CD_TIPO_ELEICAO</th>\n",
       "      <th>NM_TIPO_ELEICAO</th>\n",
       "      <th>CD_ELEICAO</th>\n",
       "      <th>DS_ELEICAO</th>\n",
       "      <th>DT_ELEICAO</th>\n",
       "      <th>ST_TURNO</th>\n",
       "      <th>TP_PRESTACAO_CONTAS</th>\n",
       "      <th>...</th>\n",
       "      <th>SG_PARTIDO_FORNECEDOR</th>\n",
       "      <th>NM_PARTIDO_FORNECEDOR</th>\n",
       "      <th>DS_TIPO_DOCUMENTO</th>\n",
       "      <th>NR_DOCUMENTO</th>\n",
       "      <th>CD_ORIGEM_DESPESA</th>\n",
       "      <th>DS_ORIGEM_DESPESA</th>\n",
       "      <th>SQ_DESPESA</th>\n",
       "      <th>DT_DESPESA</th>\n",
       "      <th>DS_DESPESA</th>\n",
       "      <th>VR_DESPESA_CONTRATADA</th>\n",
       "    </tr>\n",
       "  </thead>\n",
       "  <tbody>\n",
       "    <tr>\n",
       "      <th>0</th>\n",
       "      <td>26/10/2024</td>\n",
       "      <td>03:00:57</td>\n",
       "      <td>2024</td>\n",
       "      <td>2</td>\n",
       "      <td>Ordinária</td>\n",
       "      <td>619</td>\n",
       "      <td>Eleições Municipais 2024</td>\n",
       "      <td>06/10/2024</td>\n",
       "      <td>1</td>\n",
       "      <td>Parcial</td>\n",
       "      <td>...</td>\n",
       "      <td>#NULO</td>\n",
       "      <td>#NULO</td>\n",
       "      <td>Nota Fiscal</td>\n",
       "      <td>820</td>\n",
       "      <td>20110000</td>\n",
       "      <td>Publicidade por adesivos</td>\n",
       "      <td>54764890</td>\n",
       "      <td>09/09/2024</td>\n",
       "      <td>ADESIVO MICROPERFURADO</td>\n",
       "      <td>120,00</td>\n",
       "    </tr>\n",
       "  </tbody>\n",
       "</table>\n",
       "<p>1 rows × 53 columns</p>\n",
       "</div>"
      ],
      "text/plain": [
       "   DT_GERACAO HH_GERACAO  AA_ELEICAO  CD_TIPO_ELEICAO NM_TIPO_ELEICAO  \\\n",
       "0  26/10/2024   03:00:57        2024                2       Ordinária   \n",
       "\n",
       "   CD_ELEICAO                DS_ELEICAO  DT_ELEICAO  ST_TURNO  \\\n",
       "0         619  Eleições Municipais 2024  06/10/2024         1   \n",
       "\n",
       "  TP_PRESTACAO_CONTAS  ... SG_PARTIDO_FORNECEDOR  NM_PARTIDO_FORNECEDOR  \\\n",
       "0             Parcial  ...                 #NULO                  #NULO   \n",
       "\n",
       "  DS_TIPO_DOCUMENTO  NR_DOCUMENTO CD_ORIGEM_DESPESA         DS_ORIGEM_DESPESA  \\\n",
       "0       Nota Fiscal           820          20110000  Publicidade por adesivos   \n",
       "\n",
       "   SQ_DESPESA  DT_DESPESA              DS_DESPESA  VR_DESPESA_CONTRATADA  \n",
       "0    54764890  09/09/2024  ADESIVO MICROPERFURADO                 120,00  \n",
       "\n",
       "[1 rows x 53 columns]"
      ]
     },
     "metadata": {},
     "output_type": "display_data"
    },
    {
     "name": "stdout",
     "output_type": "stream",
     "text": [
      "A leitura foi concluída com sucesso.\n"
     ]
    }
   ],
   "source": [
    "def leitura_excel():\n",
    "    try:\n",
    "        # Lê o arquivo CSV\n",
    "        df = pd.read_csv(r'C:\\Users\\gm194\\Downloads\\despesas_contratadas_candidatos_2024_RS.csv', encoding=\"latin-1\", sep=\";\", nrows=2000)\n",
    "        display(df.head(1))  # Imprime as primeiras linhas do DataFrame\n",
    "        return df  # Retorna o DataFrame se a leitura for bem-sucedida\n",
    "    except Exception as e:\n",
    "        print(f\"Erro ao ler o arquivo: {e}\")  # Tratamento de erros\n",
    "        return None  # Retorna None se houver um erro\n",
    "\n",
    "# Executa a função e armazena o DataFrame em uma variável, para poder usar em outras células\n",
    "df = leitura_excel()\n",
    "\n",
    "# Verifica se a leitura foi bem-sucedida e exibe o DataFrame completo\n",
    "if df is not None:\n",
    "    print(\"A leitura foi concluída com sucesso.\")\n",
    "else:\n",
    "    print(\"A leitura falhou.\")"
   ]
  },
  {
   "cell_type": "markdown",
   "metadata": {},
   "source": [
    "### Manipulação de dados"
   ]
  },
  {
   "cell_type": "code",
   "execution_count": 72,
   "metadata": {},
   "outputs": [],
   "source": [
    "# Converte strings para datas. Valores inválidos se tornam NaT( Not a time).\n",
    "# O parâmetro erros='coerce' é usado para evitar erros na conversão\n",
    "# Se a data não for válida, ela é transformada em NaT em vez de parar o código.\n",
    "df['DT_GERACAO'] = pd.to_datetime(df['DT_GERACAO'], errors='coerce', dayfirst=False)\n",
    "df['DT_ELEICAO'] = pd.to_datetime(df['DT_ELEICAO'], errors='coerce',dayfirst=False)\n",
    "df['DT_DESPESA'] = pd.to_datetime(df['DT_DESPESA'], errors='coerce',dayfirst=False)\n",
    "\n",
    "#Após tratar essa coluna, posso passar para string e mudar o formato da data\n",
    "df['DT_GERACAO'] = df['DT_GERACAO'].dt.strftime('%Y-%m-%d')\n",
    "df['DT_ELEICAO'] = df['DT_ELEICAO'].dt.strftime('%Y-%m-%d')\n",
    "df['DT_DESPESA'] = df['DT_DESPESA'].dt.strftime('%Y-%m-%d')"
   ]
  },
  {
   "cell_type": "markdown",
   "metadata": {},
   "source": [
    "## Tratando valores nulos"
   ]
  },
  {
   "cell_type": "code",
   "execution_count": 73,
   "metadata": {},
   "outputs": [
    {
     "data": {
      "text/html": [
       "<div>\n",
       "<style scoped>\n",
       "    .dataframe tbody tr th:only-of-type {\n",
       "        vertical-align: middle;\n",
       "    }\n",
       "\n",
       "    .dataframe tbody tr th {\n",
       "        vertical-align: top;\n",
       "    }\n",
       "\n",
       "    .dataframe thead th {\n",
       "        text-align: right;\n",
       "    }\n",
       "</style>\n",
       "<table border=\"1\" class=\"dataframe\">\n",
       "  <thead>\n",
       "    <tr style=\"text-align: right;\">\n",
       "      <th></th>\n",
       "      <th>DT_GERACAO</th>\n",
       "      <th>HH_GERACAO</th>\n",
       "      <th>AA_ELEICAO</th>\n",
       "      <th>CD_TIPO_ELEICAO</th>\n",
       "      <th>NM_TIPO_ELEICAO</th>\n",
       "      <th>CD_ELEICAO</th>\n",
       "      <th>DS_ELEICAO</th>\n",
       "      <th>DT_ELEICAO</th>\n",
       "      <th>ST_TURNO</th>\n",
       "      <th>TP_PRESTACAO_CONTAS</th>\n",
       "      <th>...</th>\n",
       "      <th>SG_PARTIDO_FORNECEDOR</th>\n",
       "      <th>NM_PARTIDO_FORNECEDOR</th>\n",
       "      <th>DS_TIPO_DOCUMENTO</th>\n",
       "      <th>NR_DOCUMENTO</th>\n",
       "      <th>CD_ORIGEM_DESPESA</th>\n",
       "      <th>DS_ORIGEM_DESPESA</th>\n",
       "      <th>SQ_DESPESA</th>\n",
       "      <th>DT_DESPESA</th>\n",
       "      <th>DS_DESPESA</th>\n",
       "      <th>VR_DESPESA_CONTRATADA</th>\n",
       "    </tr>\n",
       "  </thead>\n",
       "  <tbody>\n",
       "    <tr>\n",
       "      <th>0</th>\n",
       "      <td>2024-10-26</td>\n",
       "      <td>03:00:57</td>\n",
       "      <td>2024</td>\n",
       "      <td>2</td>\n",
       "      <td>Ordinária</td>\n",
       "      <td>619</td>\n",
       "      <td>Eleições Municipais 2024</td>\n",
       "      <td>2024-10-06</td>\n",
       "      <td>1</td>\n",
       "      <td>Parcial</td>\n",
       "      <td>...</td>\n",
       "      <td>NaN</td>\n",
       "      <td>NaN</td>\n",
       "      <td>Nota Fiscal</td>\n",
       "      <td>820</td>\n",
       "      <td>20110000</td>\n",
       "      <td>Publicidade por adesivos</td>\n",
       "      <td>54764890</td>\n",
       "      <td>2024-09-09</td>\n",
       "      <td>ADESIVO MICROPERFURADO</td>\n",
       "      <td>120,00</td>\n",
       "    </tr>\n",
       "  </tbody>\n",
       "</table>\n",
       "<p>1 rows × 53 columns</p>\n",
       "</div>"
      ],
      "text/plain": [
       "   DT_GERACAO HH_GERACAO  AA_ELEICAO  CD_TIPO_ELEICAO NM_TIPO_ELEICAO  \\\n",
       "0  2024-10-26   03:00:57        2024                2       Ordinária   \n",
       "\n",
       "   CD_ELEICAO                DS_ELEICAO  DT_ELEICAO  ST_TURNO  \\\n",
       "0         619  Eleições Municipais 2024  2024-10-06         1   \n",
       "\n",
       "  TP_PRESTACAO_CONTAS  ... SG_PARTIDO_FORNECEDOR  NM_PARTIDO_FORNECEDOR  \\\n",
       "0             Parcial  ...                   NaN                    NaN   \n",
       "\n",
       "  DS_TIPO_DOCUMENTO  NR_DOCUMENTO CD_ORIGEM_DESPESA         DS_ORIGEM_DESPESA  \\\n",
       "0       Nota Fiscal           820          20110000  Publicidade por adesivos   \n",
       "\n",
       "   SQ_DESPESA  DT_DESPESA              DS_DESPESA  VR_DESPESA_CONTRATADA  \n",
       "0    54764890  2024-09-09  ADESIVO MICROPERFURADO                 120,00  \n",
       "\n",
       "[1 rows x 53 columns]"
      ]
     },
     "execution_count": 73,
     "metadata": {},
     "output_type": "execute_result"
    }
   ],
   "source": [
    "df['SG_PARTIDO_FORNECEDOR'] = df['SG_PARTIDO_FORNECEDOR'].replace({'#NULO': np.nan})\n",
    "df['NM_PARTIDO_FORNECEDOR'] = df['NM_PARTIDO_FORNECEDOR'].replace({'#NULO': np.nan})\n",
    "\n",
    "df.head(1)\n"
   ]
  }
 ],
 "metadata": {
  "kernelspec": {
   "display_name": "Python 3",
   "language": "python",
   "name": "python3"
  },
  "language_info": {
   "codemirror_mode": {
    "name": "ipython",
    "version": 3
   },
   "file_extension": ".py",
   "mimetype": "text/x-python",
   "name": "python",
   "nbconvert_exporter": "python",
   "pygments_lexer": "ipython3",
   "version": "3.12.2"
  }
 },
 "nbformat": 4,
 "nbformat_minor": 2
}
